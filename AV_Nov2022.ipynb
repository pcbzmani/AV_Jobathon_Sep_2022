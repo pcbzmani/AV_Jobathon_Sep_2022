{
  "nbformat": 4,
  "nbformat_minor": 0,
  "metadata": {
    "colab": {
      "provenance": [],
      "mount_file_id": "140OE4zONnEdvLngIJGk9aEnzPcEl-HZj",
      "authorship_tag": "ABX9TyObLdPc3LAMuzbpbJM1F6LW",
      "include_colab_link": true
    },
    "kernelspec": {
      "name": "python3",
      "display_name": "Python 3"
    },
    "language_info": {
      "name": "python"
    }
  },
  "cells": [
    {
      "cell_type": "markdown",
      "metadata": {
        "id": "view-in-github",
        "colab_type": "text"
      },
      "source": [
        "<a href=\"https://colab.research.google.com/github/pcbzmani/AV_Jobathon_Sep_2022/blob/main/AV_Nov2022.ipynb\" target=\"_parent\"><img src=\"https://colab.research.google.com/assets/colab-badge.svg\" alt=\"Open In Colab\"/></a>"
      ]
    },
    {
      "cell_type": "code",
      "execution_count": 88,
      "metadata": {
        "colab": {
          "base_uri": "https://localhost:8080/"
        },
        "id": "BkNIEnNXYJ6i",
        "outputId": "f4dd55db-b4cf-41a0-aa8b-f5663d4b1428"
      },
      "outputs": [
        {
          "output_type": "stream",
          "name": "stdout",
          "text": [
            "Looking in indexes: https://pypi.org/simple, https://us-python.pkg.dev/colab-wheels/public/simple/\n",
            "Requirement already satisfied: pyspark in /usr/local/lib/python3.7/dist-packages (3.3.1)\n",
            "Requirement already satisfied: py4j==0.10.9.5 in /usr/local/lib/python3.7/dist-packages (from pyspark) (0.10.9.5)\n"
          ]
        }
      ],
      "source": [
        "!pip install pyspark"
      ]
    },
    {
      "cell_type": "code",
      "source": [
        "from pyspark.sql import SparkSession\n",
        "spark = SparkSession.builder\\\n",
        "        .master(\"local\")\\\n",
        "        .appName(\"energypredication\")\\\n",
        "        .config('spark.ui.port', '4040')\\\n",
        "        .getOrCreate()"
      ],
      "metadata": {
        "id": "6tIH27CeZHQf"
      },
      "execution_count": 89,
      "outputs": []
    },
    {
      "cell_type": "code",
      "source": [
        "from pyspark.ml.regression import LinearRegression\n",
        "from pyspark.ml.linalg import Vectors\n",
        "from pyspark.ml.feature import VectorAssembler, StringIndexer\n",
        "from pyspark.sql import functions as F\n",
        "from pyspark.sql.types import FloatType"
      ],
      "metadata": {
        "id": "g3K4RCMWZNEn"
      },
      "execution_count": 90,
      "outputs": []
    },
    {
      "cell_type": "code",
      "source": [
        "ls drive/MyDrive/Jobathon_Nov2022/"
      ],
      "metadata": {
        "colab": {
          "base_uri": "https://localhost:8080/"
        },
        "id": "LVGISafxZxBQ",
        "outputId": "f2bca268-6e8b-4bae-d4a9-9a7617ee3ba9"
      },
      "execution_count": 91,
      "outputs": [
        {
          "output_type": "stream",
          "name": "stdout",
          "text": [
            "\u001b[0m\u001b[01;34mres\u001b[0m/  sample_submission_jn0a7vR.csv  test_WudNWDM.csv  train_IxoE5JN.csv\n"
          ]
        }
      ]
    },
    {
      "cell_type": "code",
      "source": [
        "train_data_df = spark.read.csv('/content/drive/MyDrive/Jobathon_Nov2022/train_IxoE5JN.csv',header=True,inferSchema=True)"
      ],
      "metadata": {
        "id": "9HoUqWtAa2cn"
      },
      "execution_count": 92,
      "outputs": []
    },
    {
      "cell_type": "code",
      "source": [
        "train_data_df = train_data_df.withColumn('month', F.split(F.col('datetime'), '-')[1])\\\n",
        "                             .withColumn('day', F.split((F.split(F.col('datetime'), '-')[2]),' ')[0])\\\n",
        "                             .withColumn('time', F.split((F.split(F.col('datetime'), ' ')[1]),':')[0])\\\n",
        "                             .withColumn('daymonthtime',F.concat(F.col('day'),F.col('month'),F.col('time')).cast('int'))\\\n",
        "                             .drop('month','day','time')\\\n",
        "                             .dropna()"
      ],
      "metadata": {
        "id": "vDlqQoZ0bfO1"
      },
      "execution_count": 45,
      "outputs": []
    },
    {
      "cell_type": "code",
      "source": [
        "train_data_df.show()"
      ],
      "metadata": {
        "colab": {
          "base_uri": "https://localhost:8080/"
        },
        "id": "u14YOXbXb56s",
        "outputId": "4cecd14c-042f-42ce-d101-9b6077e2101e"
      },
      "execution_count": 46,
      "outputs": [
        {
          "output_type": "stream",
          "name": "stdout",
          "text": [
            "+------+-------------------+------------------+------------+\n",
            "|row_id|           datetime|            energy|daymonthtime|\n",
            "+------+-------------------+------------------+------------+\n",
            "|     1|2008-03-01 00:00:00|      1259.9855625|       10300|\n",
            "|     2|2008-03-01 01:00:00|         1095.5415|       10301|\n",
            "|     3|2008-03-01 02:00:00|         1056.2475|       10302|\n",
            "|     4|2008-03-01 03:00:00|          1034.742|       10303|\n",
            "|     5|2008-03-01 04:00:00|         1026.3345|       10304|\n",
            "|     6|2008-03-01 05:00:00|         1033.7685|       10305|\n",
            "|     7|2008-03-01 06:00:00|           1086.78|       10306|\n",
            "|     8|2008-03-01 07:00:00|          1211.742|       10307|\n",
            "|     9|2008-03-01 08:00:00|          1293.693|       10308|\n",
            "|    10|2008-03-01 09:00:00|1318.9154999999998|       10309|\n",
            "|    11|2008-03-01 10:00:00|          1337.943|       10310|\n",
            "|    12|2008-03-01 11:00:00|          1348.917|       10311|\n",
            "|    13|2008-03-01 12:00:00|         1360.6875|       10312|\n",
            "|    14|2008-03-01 13:00:00|          1363.254|       10313|\n",
            "|    15|2008-03-01 14:00:00|         1385.4675|       10314|\n",
            "|    16|2008-03-01 15:00:00|         1392.9015|       10315|\n",
            "|    17|2008-03-01 16:00:00|         1392.9015|       10316|\n",
            "|    18|2008-03-01 17:00:00|          1384.494|       10317|\n",
            "|    19|2008-03-01 18:00:00|         1358.7405|       10318|\n",
            "|    20|2008-03-01 19:00:00|          1330.509|       10319|\n",
            "+------+-------------------+------------------+------------+\n",
            "only showing top 20 rows\n",
            "\n"
          ]
        }
      ]
    },
    {
      "cell_type": "code",
      "source": [
        "assembler_obj = VectorAssembler(inputCols=['daymonthtime'],outputCol='daymonthtime_feature')"
      ],
      "metadata": {
        "id": "EdpSO1zicHn0"
      },
      "execution_count": 47,
      "outputs": []
    },
    {
      "cell_type": "code",
      "source": [
        "feature_vector_df = assembler_obj.transform(train_data_df)"
      ],
      "metadata": {
        "id": "CWeLJax7enDX"
      },
      "execution_count": 48,
      "outputs": []
    },
    {
      "cell_type": "code",
      "source": [
        "formatted_data = feature_vector_df.select('daymonthtime_feature','energy')"
      ],
      "metadata": {
        "id": "m5kgyLkJfSD4"
      },
      "execution_count": 49,
      "outputs": []
    },
    {
      "cell_type": "code",
      "source": [
        "train_data, test_data = formatted_data.randomSplit([0.7,0.3])"
      ],
      "metadata": {
        "id": "6aXRpH_nfc16"
      },
      "execution_count": 50,
      "outputs": []
    },
    {
      "cell_type": "code",
      "source": [
        "lireg = LinearRegression(featuresCol='daymonthtime_feature', labelCol= 'energy')\n",
        "lireg_model = lireg.fit(train_data)\n",
        "test_results = lireg_model.evaluate(test_data)"
      ],
      "metadata": {
        "id": "fWO617Trflql"
      },
      "execution_count": 51,
      "outputs": []
    },
    {
      "cell_type": "code",
      "source": [
        "test_results.rootMeanSquaredError"
      ],
      "metadata": {
        "colab": {
          "base_uri": "https://localhost:8080/"
        },
        "id": "IAJTUuBMgDwW",
        "outputId": "6e452164-ad84-4625-9767-b5f273c4a619"
      },
      "execution_count": 52,
      "outputs": [
        {
          "output_type": "execute_result",
          "data": {
            "text/plain": [
              "369.61808761634614"
            ]
          },
          "metadata": {},
          "execution_count": 52
        }
      ]
    },
    {
      "cell_type": "code",
      "source": [
        "test_results.r2"
      ],
      "metadata": {
        "colab": {
          "base_uri": "https://localhost:8080/"
        },
        "id": "IKeKOrL8gTyD",
        "outputId": "4298411f-eb7d-495f-85fc-975f7dc43042"
      },
      "execution_count": 53,
      "outputs": [
        {
          "output_type": "execute_result",
          "data": {
            "text/plain": [
              "-0.00017967367921323252"
            ]
          },
          "metadata": {},
          "execution_count": 53
        }
      ]
    },
    {
      "cell_type": "code",
      "source": [
        "unlabeled_data = test_data.select('daymonthtime_feature')\n",
        "predictions = lireg_model.transform(unlabeled_data)"
      ],
      "metadata": {
        "id": "pYhcLvN8gXAw"
      },
      "execution_count": 54,
      "outputs": []
    },
    {
      "cell_type": "code",
      "source": [
        "predictions.show()"
      ],
      "metadata": {
        "colab": {
          "base_uri": "https://localhost:8080/"
        },
        "id": "4CYDF302gxqm",
        "outputId": "14f22d64-528b-46a4-d3e0-721052fe5911"
      },
      "execution_count": 55,
      "outputs": [
        {
          "output_type": "stream",
          "name": "stdout",
          "text": [
            "+--------------------+------------------+\n",
            "|daymonthtime_feature|        prediction|\n",
            "+--------------------+------------------+\n",
            "|           [10100.0]|1702.2860094187909|\n",
            "|           [10100.0]|1702.2860094187909|\n",
            "|           [10100.0]|1702.2860094187909|\n",
            "|           [10100.0]|1702.2860094187909|\n",
            "|           [10101.0]|1702.2860251151035|\n",
            "|           [10101.0]|1702.2860251151035|\n",
            "|           [10102.0]|1702.2860408114161|\n",
            "|           [10102.0]|1702.2860408114161|\n",
            "|           [10102.0]|1702.2860408114161|\n",
            "|           [10103.0]|1702.2860565077287|\n",
            "|           [10103.0]|1702.2860565077287|\n",
            "|           [10103.0]|1702.2860565077287|\n",
            "|           [10103.0]|1702.2860565077287|\n",
            "|           [10104.0]|1702.2860722040414|\n",
            "|           [10104.0]|1702.2860722040414|\n",
            "|           [10104.0]|1702.2860722040414|\n",
            "|           [10105.0]| 1702.286087900354|\n",
            "|           [10105.0]| 1702.286087900354|\n",
            "|           [10105.0]| 1702.286087900354|\n",
            "|           [10105.0]| 1702.286087900354|\n",
            "+--------------------+------------------+\n",
            "only showing top 20 rows\n",
            "\n"
          ]
        }
      ]
    },
    {
      "cell_type": "code",
      "source": [
        "energy_coeff = lireg_model.coefficients[0]"
      ],
      "metadata": {
        "id": "veNgseJJgzgs"
      },
      "execution_count": 56,
      "outputs": []
    },
    {
      "cell_type": "code",
      "source": [
        "intercept = lireg_model.intercept"
      ],
      "metadata": {
        "id": "Q3IOK2RqhD6m"
      },
      "execution_count": 57,
      "outputs": []
    },
    {
      "cell_type": "code",
      "source": [
        "energy_coeff"
      ],
      "metadata": {
        "colab": {
          "base_uri": "https://localhost:8080/"
        },
        "id": "HUpiboGDhIdy",
        "outputId": "8d99db44-bbf0-41da-c279-07f18625bf5f"
      },
      "execution_count": 58,
      "outputs": [
        {
          "output_type": "execute_result",
          "data": {
            "text/plain": [
              "1.5696312609903523e-05"
            ]
          },
          "metadata": {},
          "execution_count": 58
        }
      ]
    },
    {
      "cell_type": "markdown",
      "source": [],
      "metadata": {
        "id": "UoyH3sOmhZ-G"
      }
    },
    {
      "cell_type": "code",
      "source": [
        "intercept"
      ],
      "metadata": {
        "colab": {
          "base_uri": "https://localhost:8080/"
        },
        "id": "qooRBSBBhJso",
        "outputId": "8e622178-e327-493e-f7a9-68266622ef0a"
      },
      "execution_count": 59,
      "outputs": [
        {
          "output_type": "execute_result",
          "data": {
            "text/plain": [
              "1702.1274766614308"
            ]
          },
          "metadata": {},
          "execution_count": 59
        }
      ]
    },
    {
      "cell_type": "code",
      "source": [
        "predict = (intercept) + (energy_coeff) * (10100)"
      ],
      "metadata": {
        "id": "ikwgJt5FhKdv"
      },
      "execution_count": 60,
      "outputs": []
    },
    {
      "cell_type": "code",
      "source": [
        "predict"
      ],
      "metadata": {
        "colab": {
          "base_uri": "https://localhost:8080/"
        },
        "id": "7q50zxEghd39",
        "outputId": "cfb3c2e9-bfbc-435f-a1cb-0a1ec6080102"
      },
      "execution_count": 61,
      "outputs": [
        {
          "output_type": "execute_result",
          "data": {
            "text/plain": [
              "1702.2860094187909"
            ]
          },
          "metadata": {},
          "execution_count": 61
        }
      ]
    },
    {
      "cell_type": "code",
      "source": [
        "test_data_df = spark.read.csv('/content/drive/MyDrive/Jobathon_Nov2022/test_WudNWDM.csv',header=True,inferSchema=True)"
      ],
      "metadata": {
        "id": "3mx6BG7EhfLt"
      },
      "execution_count": 63,
      "outputs": []
    },
    {
      "cell_type": "code",
      "source": [
        "test_data_df = test_data_df.withColumn('month', F.split(F.col('datetime'), '-')[1])\\\n",
        "                             .withColumn('day', F.split((F.split(F.col('datetime'), '-')[2]),' ')[0])\\\n",
        "                             .withColumn('time', F.split((F.split(F.col('datetime'), ' ')[1]),':')[0])\\\n",
        "                             .withColumn('daymonthtime',F.concat(F.col('day'),F.col('month'),F.col('time')).cast('int'))\\\n",
        "                             .drop('month','day','time')"
      ],
      "metadata": {
        "id": "AmGdCVbUiCFs"
      },
      "execution_count": 64,
      "outputs": []
    },
    {
      "cell_type": "code",
      "source": [
        "def enrgycal(inpcol):\n",
        "  predict = (1702.1274766614308) + (1.5696312609903523e-05) * (inpcol)\n",
        "  return predict"
      ],
      "metadata": {
        "id": "bKntBUX9idLo"
      },
      "execution_count": 82,
      "outputs": []
    },
    {
      "cell_type": "code",
      "source": [
        "convertUDF = F.udf(lambda z: enrgycal(z))"
      ],
      "metadata": {
        "id": "avClZf5iizWc"
      },
      "execution_count": 83,
      "outputs": []
    },
    {
      "cell_type": "code",
      "source": [
        "test_data_df = test_data_df.withColumn('energy', convertUDF(F.col('daymonthtime')))"
      ],
      "metadata": {
        "id": "385P_KFhiV1y"
      },
      "execution_count": 84,
      "outputs": []
    },
    {
      "cell_type": "code",
      "source": [
        "res = test_data_df.select('row_id','energy')"
      ],
      "metadata": {
        "id": "0mlLaFXQj0Tv"
      },
      "execution_count": 86,
      "outputs": []
    },
    {
      "cell_type": "code",
      "source": [
        "res.repartition(1).write.format('csv').option('header',True).save('/content/drive/MyDrive/Jobathon_Nov2022/res')"
      ],
      "metadata": {
        "id": "ilLO8-c4kgv2"
      },
      "execution_count": 87,
      "outputs": []
    },
    {
      "cell_type": "code",
      "source": [],
      "metadata": {
        "id": "f5AgbNdDk0k1"
      },
      "execution_count": null,
      "outputs": []
    }
  ]
}