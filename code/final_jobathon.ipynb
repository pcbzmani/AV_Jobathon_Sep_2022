{
  "nbformat": 4,
  "nbformat_minor": 0,
  "metadata": {
    "colab": {
      "provenance": [],
      "collapsed_sections": [],
      "authorship_tag": "ABX9TyO57eL5zDCcCoWqRnY8qvMj",
      "include_colab_link": true
    },
    "kernelspec": {
      "name": "python3",
      "display_name": "Python 3"
    },
    "language_info": {
      "name": "python"
    }
  },
  "cells": [
    {
      "cell_type": "markdown",
      "metadata": {
        "id": "view-in-github",
        "colab_type": "text"
      },
      "source": [
        "<a href=\"https://colab.research.google.com/github/pcbzmani/AV_Jobathon_Sep_2022/blob/main/final_jobathon.ipynb\" target=\"_parent\"><img src=\"https://colab.research.google.com/assets/colab-badge.svg\" alt=\"Open In Colab\"/></a>"
      ]
    },
    {
      "cell_type": "code",
      "execution_count": 43,
      "metadata": {
        "colab": {
          "base_uri": "https://localhost:8080/"
        },
        "id": "quDZixQL-tU8",
        "outputId": "14605c99-b5c2-4169-e946-1606ee5a094d"
      },
      "outputs": [
        {
          "output_type": "stream",
          "name": "stdout",
          "text": [
            "Looking in indexes: https://pypi.org/simple, https://us-python.pkg.dev/colab-wheels/public/simple/\n",
            "Requirement already satisfied: pyspark in /usr/local/lib/python3.7/dist-packages (3.3.0)\n",
            "Requirement already satisfied: py4j==0.10.9.5 in /usr/local/lib/python3.7/dist-packages (from pyspark) (0.10.9.5)\n"
          ]
        }
      ],
      "source": [
        "!pip install pyspark"
      ]
    },
    {
      "cell_type": "code",
      "source": [
        "from google.colab import drive\n",
        "drive.mount('/content/drive')"
      ],
      "metadata": {
        "colab": {
          "base_uri": "https://localhost:8080/"
        },
        "id": "gMPMvjMI-vqG",
        "outputId": "bfba1431-9a18-4c89-9050-494e825c2c11"
      },
      "execution_count": 2,
      "outputs": [
        {
          "output_type": "stream",
          "name": "stdout",
          "text": [
            "Mounted at /content/drive\n"
          ]
        }
      ]
    },
    {
      "cell_type": "code",
      "source": [
        "from pyspark.sql import SparkSession\n",
        "spark = SparkSession.builder\\\n",
        "        .master(\"local\")\\\n",
        "        .appName(\"jobathon\")\\\n",
        "        .config('spark.ui.port', '4040')\\\n",
        "        .getOrCreate()"
      ],
      "metadata": {
        "id": "_YgHhsmC-xea"
      },
      "execution_count": 3,
      "outputs": []
    },
    {
      "cell_type": "code",
      "source": [
        "# Import libraries\n",
        "import pyspark.sql.functions as F\n",
        "from pyspark.sql.window import Window\n",
        "from pyspark.sql.types import StringType\n",
        "\n",
        "#Function input - spark object, click data path, resolved data path\n",
        "# Function output - final spark dataframe# \n",
        "def sample_function(spark, s3_clickstream_path, s3_login_path):\n",
        "  df_clickstream =  spark.read.format(\"json\").load(s3_clickstream_path)\n",
        "  user_mapping =  spark.read.format(\"csv\").option(\"header\",True).load(s3_login_path)\n",
        "\n",
        "# Join clickstream with user mapping  \n",
        "  df = df_clickstream.join(\n",
        "    user_mapping,\n",
        "    'session_id',\n",
        "    'left_outer'\n",
        "  ) \n",
        "\n",
        "# Derive Current date, Page URL and Logged in\n",
        "  df = df.withColumn('client_page_url', F.col('client_side_data').getField(\"current_page_url\"))\\\n",
        "       .withColumn('current_date',F.split('event_date_time',' ')[0])\\\n",
        "       .withColumn('login_date',F.split('login_date_time',' ')[0])\\\n",
        "       .drop('client_side_data','login_date_time')\n",
        "\n",
        "# Derive Click count and Page count for registered users\n",
        "  df_grp = df.groupBy('current_date','browser_id','user_id')\\\n",
        "           .pivot('event_type').agg({'event_type':'count'})\n",
        "\n",
        "\n",
        "# Join the event grouped DF with Original df  \n",
        "  df = df.join(\n",
        "    df_grp,\n",
        "    [df['user_id'].eqNullSafe(df_grp['user_id']),df['current_date']==df_grp['current_date'],df['browser_id']==df_grp['browser_id']],\n",
        "    'left_outer'\n",
        "  ).drop(df_grp['user_id'])\\\n",
        "   .drop(df_grp['browser_id'])\\\n",
        "   .drop(df_grp['current_date'])\n",
        "  \n",
        "#Window Spec\n",
        "  window_spec = Window\\\n",
        "              .partitionBy('current_date','browser_id','user_id')\\\n",
        "              .orderBy(F.col('event_date_time').asc())\n",
        "  \n",
        "  \n",
        "  df = df.withColumn('logged_in',F.when((F.col('current_date') == F.col('login_date')),F.lit('1'))\\\n",
        "                               .otherwise(F.lit('0')))\\\n",
        "        .withColumn('row_number',F.rank().over(window_spec))\\\n",
        "        .withColumn('number_of_pageloads',F.coalesce(F.col('pageload'),F.lit(0) )) \\\n",
        "        .withColumn('number_of_clicks',F.coalesce(F.col('click'),F.lit(0) ))\\\n",
        "        .filter('row_number == 1')\\\n",
        "        .select('current_date','browser_id','user_id','logged_in',F.col('client_page_url').alias('first_url'),\\\n",
        "                F.col('number_of_clicks'),\\\n",
        "              F.col('number_of_pageloads')) \n",
        "              \n",
        "  return df"
      ],
      "metadata": {
        "id": "ypLTR3Pq-0ZV"
      },
      "execution_count": 50,
      "outputs": []
    },
    {
      "cell_type": "code",
      "source": [
        "result_df = sample_function(spark,'/content/drive/MyDrive/JobaThon_Sep_2022/jobathon_click_data.json','/content/drive/MyDrive/JobaThon_Sep_2022/jobathon_login_data.csv')"
      ],
      "metadata": {
        "id": "vDOswZJG-22t"
      },
      "execution_count": 41,
      "outputs": []
    },
    {
      "cell_type": "code",
      "source": [
        "result_df.printSchema()"
      ],
      "metadata": {
        "colab": {
          "base_uri": "https://localhost:8080/"
        },
        "id": "m0uqRMzwn8Rn",
        "outputId": "ba126460-1815-4012-a4c5-160cb1639498"
      },
      "execution_count": null,
      "outputs": [
        {
          "output_type": "stream",
          "name": "stdout",
          "text": [
            "root\n",
            " |-- current_date: string (nullable = true)\n",
            " |-- browser_id: string (nullable = true)\n",
            " |-- user_id: string (nullable = true)\n",
            " |-- logged_in: integer (nullable = false)\n",
            " |-- first_url: string (nullable = true)\n",
            " |-- number_of_clicks: long (nullable = false)\n",
            " |-- number_of_pageloads: long (nullable = false)\n",
            "\n"
          ]
        }
      ]
    },
    {
      "cell_type": "code",
      "source": [
        "result_df.summary().show()"
      ],
      "metadata": {
        "colab": {
          "base_uri": "https://localhost:8080/"
        },
        "id": "WSAGZeisdN1Q",
        "outputId": "18e4477b-91cb-46c5-c7af-fbc0f470689f"
      },
      "execution_count": null,
      "outputs": [
        {
          "output_type": "stream",
          "name": "stdout",
          "text": [
            "+-------+------------+--------------------+-------------+-------------------+--------------------+-------------------+------------------+\n",
            "|summary|current_date|          browser_id|      user_id|          logged_in|           first_url|number_of_pageloads|  number_of_clicks|\n",
            "+-------+------------+--------------------+-------------+-------------------+--------------------+-------------------+------------------+\n",
            "|  count|      305460|              305460|        14393|             305460|              305460|             210807|            152630|\n",
            "|   mean|        null|                null|     Infinity|0.01701041052838342|                null| 1.2461777834701884|3.9127366834829327|\n",
            "| stddev|        null|                null|          NaN|0.12931013573109845|                null| 1.2338159592654911| 8.956119396131623|\n",
            "|    min|  2022-07-31|0009xtvcUjrhxlw2F...|   1000000406|                  0|https://www.gosho...|                  1|                 1|\n",
            "|    25%|        null|                null| 4.00000513E8|                0.0|                null|                  1|                 1|\n",
            "|    50%|        null|                null| 1.60000055E9|                0.0|                null|                  1|                 2|\n",
            "|    75%|        null|                null|2.800000498E9|                0.0|                null|                  1|                 4|\n",
            "|    max|  2022-08-11|zzzoSMvnqvu1TeIjS...|    E00001CC1|                  1|https://www.gosho...|                319|               866|\n",
            "+-------+------------+--------------------+-------------+-------------------+--------------------+-------------------+------------------+\n",
            "\n"
          ]
        }
      ]
    }
  ]
}
